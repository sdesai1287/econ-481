{
 "cells": [
  {
   "cell_type": "markdown",
   "id": "21ab7d37-451e-402b-894b-d67af1308652",
   "metadata": {},
   "source": [
    "# Lecture 4\n",
    "___"
   ]
  },
  {
   "cell_type": "markdown",
   "id": "7efe837a-52e7-41c4-930c-09697bc79fe4",
   "metadata": {},
   "source": [
    "## Exercise: `statsmodels`\n",
    "\n",
    "Simulate 1000 observations from \n",
    "\n",
    "$$\n",
    "y = 2 + 3\\times\\sin(x) + \\varepsilon\n",
    "$$\n",
    "\n",
    "where $x\\sim\\mathcal{N}(0,1)$ and $\\varepsilon\\sim\\mathcal{N}(0,2)$. Then fit two statsmodels objects reporting the coefficients from a correctly specified regression (using $\\sin(x)$) and from an incorrectly specified one (just using $x$)."
   ]
  },
  {
   "cell_type": "markdown",
   "id": "c72830a1-c9e3-44ff-be4c-823004b5239c",
   "metadata": {},
   "source": [
    "## Exercise: `LassoCV`\n",
    "\n",
    "Look up the documentation for `sklearn.linear_model.LassoCV` and fit a cross-validated model directly with the API (feel free to just use the package defaults). What is the optimal value of $\\alpha$ and what is the score on our unseen data?"
   ]
  },
  {
   "cell_type": "markdown",
   "id": "57844291-85ab-44b2-ac83-331ecea22cf9",
   "metadata": {},
   "source": [
    "## Exercise: Plotting Predictions\n",
    "\n",
    "Using our OLS model and LASSO model from before, plot actual vs. predictions on unseen data from both models.\n",
    "\n",
    "1. Plot side-by-side. \n",
    "2. Plot together in different colors with a legend.\n",
    "3. If you have time, try to figure out how to add a title and axis labels."
   ]
  }
 ],
 "metadata": {
  "kernelspec": {
   "display_name": "Python 3 (ipykernel)",
   "language": "python",
   "name": "python3"
  },
  "language_info": {
   "codemirror_mode": {
    "name": "ipython",
    "version": 3
   },
   "file_extension": ".py",
   "mimetype": "text/x-python",
   "name": "python",
   "nbconvert_exporter": "python",
   "pygments_lexer": "ipython3",
   "version": "3.10.13"
  }
 },
 "nbformat": 4,
 "nbformat_minor": 5
}
