{
 "cells": [
  {
   "cell_type": "markdown",
   "id": "f74935ac-51c6-402b-acec-a14b3e2bbe30",
   "metadata": {},
   "source": [
    "# Lecture 2\n",
    "___"
   ]
  },
  {
   "cell_type": "markdown",
   "id": "693e31ba-d22a-4a44-a015-05b0865ad31b",
   "metadata": {},
   "source": [
    "## Exercise: Factorial\n",
    "\n",
    "Can you rewrite our factorial function using `numpy`? Is it faster? Hint: look up `np.prod`."
   ]
  },
  {
   "cell_type": "code",
   "execution_count": 4,
   "id": "9b83f572",
   "metadata": {},
   "outputs": [
    {
     "data": {
      "text/plain": [
       "120"
      ]
     },
     "execution_count": 4,
     "metadata": {},
     "output_type": "execute_result"
    }
   ],
   "source": [
    "import numpy as np\n",
    "def factorial(n):\n",
    "    return np.prod(np.arange(1, n+1))"
   ]
  },
  {
   "cell_type": "code",
   "execution_count": 1,
   "id": "9b1f82a2",
   "metadata": {},
   "outputs": [
    {
     "data": {
      "text/plain": [
       "120"
      ]
     },
     "execution_count": 1,
     "metadata": {},
     "output_type": "execute_result"
    }
   ],
   "source": [
    "import numpy as np\n",
    "def factorial2(n) :\n",
    "    return np.math.factorial(n)"
   ]
  },
  {
   "cell_type": "markdown",
   "id": "4331666e-e49a-4472-aaad-ef4b4727d0b3",
   "metadata": {},
   "source": [
    "## Exercise: Absolute Value\n",
    "\n",
    "Compute the absolute value of an arbitrary array (do not use any built-in absolute value functions)."
   ]
  },
  {
   "cell_type": "code",
   "execution_count": 19,
   "id": "d8229b5c",
   "metadata": {},
   "outputs": [
    {
     "name": "stdout",
     "output_type": "stream",
     "text": [
      "[1. 5. 2. 7. 8. 3. 4.]\n"
     ]
    }
   ],
   "source": [
    "arr = np.array([1, -5, 2, -7, -8, 3, 4])\n",
    "def abs(arr) :\n",
    "    return np.sqrt(np.power(arr, 2))\n",
    "arr = abs(arr)\n",
    "print(arr)"
   ]
  },
  {
   "cell_type": "code",
   "execution_count": 20,
   "id": "b5a9668b",
   "metadata": {},
   "outputs": [
    {
     "data": {
      "text/plain": [
       "array([1, 5, 2, 7, 8, 3, 4])"
      ]
     },
     "execution_count": 20,
     "metadata": {},
     "output_type": "execute_result"
    }
   ],
   "source": [
    "arr = np.array([1, -5, 2, -7, -8, 3, 4])\n",
    "def abs2(arr) :\n",
    "    arr[arr <0] = arr[arr < 0] * -1\n",
    "    return arr\n",
    "abs2(arr)"
   ]
  },
  {
   "cell_type": "markdown",
   "id": "c2269150-a4fe-4f52-a77b-0635e6584ae9",
   "metadata": {},
   "source": [
    "## Exercise: Standardization\n",
    "\n",
    "We now know enough `numpy` to efficiently \"standardize\" elements of a matrix (or more accurately, to rewrite [`sklearn.preprocessing.StandardScaler`](https://scikit-learn.org/stable/modules/generated/sklearn.preprocessing.StandardScaler.html)):\n",
    "\n",
    "$$\n",
    "z_{ij} = \\frac{x_{ij}-\\mu_j}{\\sigma_j}\n",
    "$$\n",
    "\n",
    "This is useful if your features have different scales for certain models (i.e. LASSO). Please write a function `standardize` to do this (that is, calculate the mean and standard deviation of each column, and return the array with standardized values)."
   ]
  },
  {
   "cell_type": "markdown",
   "id": "ab766ddb-28ae-4ed5-9a51-d6009e013c8c",
   "metadata": {},
   "source": [
    "## Exercise: Random?\n",
    "\n",
    "We're skeptical that `numpy` is actually giving us random numbers, so we want to test it by doing the following procedure 1000 times:\n",
    "1. Simulate 1000 standard normal random variables.\n",
    "2. Take the mean of those 1000 simulations.\n",
    "\n",
    "Armed with our 1000 sample means, we're going to calculate the mean and standard deviation of the sample means. What should they be? Do we get close? Please set a seed for reproducibility."
   ]
  },
  {
   "cell_type": "markdown",
   "id": "397abf94-9d77-48f9-87a7-9af2bf8f458c",
   "metadata": {},
   "source": [
    "## Exercise: Markov Chain\n",
    "\n",
    "Generate 1000 draws from a Markov Chain that starts at zero with your choice of noise term. Set a seed for reproducibility."
   ]
  }
 ],
 "metadata": {
  "kernelspec": {
   "display_name": "Python 3 (ipykernel)",
   "language": "python",
   "name": "python3"
  },
  "language_info": {
   "codemirror_mode": {
    "name": "ipython",
    "version": 3
   },
   "file_extension": ".py",
   "mimetype": "text/x-python",
   "name": "python",
   "nbconvert_exporter": "python",
   "pygments_lexer": "ipython3",
   "version": "3.9.6"
  }
 },
 "nbformat": 4,
 "nbformat_minor": 5
}
