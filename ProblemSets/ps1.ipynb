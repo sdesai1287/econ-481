{
 "cells": [
  {
   "cell_type": "markdown",
   "metadata": {},
   "source": [
    "Exercise 0\n",
    "Please write a function that takes no arguments and returns a link to your solutions on GitHub.\n"
   ]
  },
  {
   "cell_type": "code",
   "execution_count": 1,
   "metadata": {},
   "outputs": [
    {
     "data": {
      "text/plain": [
       "'https://github.com/sdesai1287/econ-481/ProblemSets/ps1.py>'"
      ]
     },
     "execution_count": 1,
     "metadata": {},
     "output_type": "execute_result"
    }
   ],
   "source": [
    "def github() -> str:\n",
    "    \"\"\"\n",
    "    arguments: none\n",
    "    returns: a link to your solutions on GitHub.\n",
    "    \"\"\"\n",
    "\n",
    "    return \"https://github.com/sdesai1287/econ-481/blob/main/ProblemSets/ps1.py\"\n",
    "\n",
    "github()"
   ]
  },
  {
   "cell_type": "markdown",
   "metadata": {},
   "source": [
    "Exercise 1\n",
    "Please ensure that you can run python1, can use Git, and install the following packages2 (we’ll install more as we go):\n",
    "\n",
    "numpy\n",
    "pandas\n",
    "scipy\n",
    "matplotlib\n",
    "seaborn"
   ]
  },
  {
   "cell_type": "code",
   "execution_count": null,
   "metadata": {},
   "outputs": [],
   "source": [
    "# %pip install numpy\n",
    "# %pip install pandas\n",
    "# %pip install scipy\n",
    "# %pip install matplotlib\n",
    "# %pip install seaborn"
   ]
  },
  {
   "cell_type": "markdown",
   "metadata": {},
   "source": [
    "Exercise 2\n",
    "Please write a function called evens_and_odds that takes as argument a natural number n and returns a dictionary with two keys, “evens” and “odds”. “evens” should be the sum of all the even natural numbers less than n, and “odds” the sum of all natural numbers less than n.\n",
    "\n",
    "For example, evens_and_odds(4) should return\n",
    "\n",
    "{'evens': 2, 'odds': 4}"
   ]
  },
  {
   "cell_type": "code",
   "execution_count": 20,
   "metadata": {},
   "outputs": [
    {
     "data": {
      "text/plain": [
       "{'evens': 2, 'odds': 4}"
      ]
     },
     "execution_count": 20,
     "metadata": {},
     "output_type": "execute_result"
    }
   ],
   "source": [
    "def evens_and_odds(n: int) -> dict:\n",
    "    \"\"\"\n",
    "    arguments: a natural number n\n",
    "    returns: a dictionary with two keys, “evens” and “odds”. “evens” should be the sum of all the even natural numbers less than n, and “odds” the sum of all odd natural numbers less than n.\n",
    "    For example, evens_and_odds(4) should return\n",
    "    {'evens': 2, 'odds': 4}.\n",
    "    \"\"\"\n",
    "    evenSum = 0\n",
    "    oddSum = 0\n",
    "    output = {'evens' : evenSum, 'odds' : oddSum}\n",
    "    for i in range(n) :\n",
    "        if (i % 2 == 0) :\n",
    "            evenSum += i\n",
    "        else :\n",
    "            oddSum += i\n",
    "    output['evens'] = evenSum\n",
    "    output['odds'] = oddSum\n",
    "    return output\n",
    "\n",
    "evens_and_odds(4)"
   ]
  },
  {
   "cell_type": "markdown",
   "metadata": {},
   "source": [
    "Exercise 3\n",
    "Please write a function called time_diff that takes as arguments two strings in the format ‘YYYY-MM-DD’ and a keyword out dictating the output. If the keyword is “float”, return the time between the two dates (in absolute value) in days. If the keyword is “string”, return “There are XX days between the two dates”. If not specified, the out keyword should be assumed to be “float”. You should use the datetime package, and no others.\n",
    "\n",
    "For example, time_diff('2020-01-01', '2020-01-02', 'float') should return\n",
    "\n",
    "1\n",
    "For example, time_diff('2020-01-03', '2020-01-01', 'string') should return\n",
    "\n",
    "\"There are 2 days between the two dates\""
   ]
  },
  {
   "cell_type": "code",
   "execution_count": 19,
   "metadata": {},
   "outputs": [
    {
     "name": "stdout",
     "output_type": "stream",
     "text": [
      "Date inputs are not in the correct format, please try again!\n",
      "There are 2 days between the two dates\n"
     ]
    }
   ],
   "source": [
    "from datetime import datetime\n",
    "from typing import Union\n",
    "\n",
    "def time_diff(date_1: str, date_2: str, out: str) -> Union[str,float]:\n",
    "    \"\"\"\n",
    "    arguments: two strings in the format ‘YYYY-MM-DD’ and a keyword out dictating the output\n",
    "    returns: If the keyword is “float”, return the time between the two dates (in absolute value) in days. If the keyword is “string”, return “There are XX days between the two dates”. If not specified, the out keyword should be assumed to be “float”\n",
    "    \"\"\"\n",
    "    date_format = \"%Y-%m-%d\"\n",
    "    try :\n",
    "        d1 = datetime.strptime(date_1, date_format)\n",
    "        d2 = datetime.strptime(date_2, date_format)\n",
    "    except ValueError :\n",
    "        return \"Date inputs are not in the correct format, please try again!\"\n",
    "\n",
    "    days = abs(d2 - d1).days\n",
    "    if (out == 'string') :\n",
    "        return 'There are ' + str(days) + ' days between the two dates'\n",
    "    else :\n",
    "        return days\n",
    "    \n",
    "print(time_diff('2020-01-01', '2020-01-02', 'float'))\n",
    "print(time_diff('2020-01-03', '2020-01-01', 'string'))\n"
   ]
  },
  {
   "cell_type": "markdown",
   "metadata": {},
   "source": [
    "Exercise 4\n",
    "Please write a function called reverse that takes as its argument a list and returns a list of the arguments in reverse order (do not use any built-in sorting methods).\n",
    "\n",
    "For example, reverse(['a', 'b', 'c']) should return\n",
    "\n",
    "['c', 'b', 'a']"
   ]
  },
  {
   "cell_type": "code",
   "execution_count": 17,
   "metadata": {},
   "outputs": [
    {
     "data": {
      "text/plain": [
       "['c', 'b', 'a']"
      ]
     },
     "execution_count": 17,
     "metadata": {},
     "output_type": "execute_result"
    }
   ],
   "source": [
    "def reverse(in_list: list) -> list:\n",
    "    \"\"\"\n",
    "    arguments: a list\n",
    "    returns: a list of the arguments in reverse order\n",
    "    Note: could do this with 'return in_list[::-1]'\n",
    "    \"\"\"\n",
    "    output = []\n",
    "    n = len(in_list)\n",
    "    for i in range(n - 1, -1, -1) :\n",
    "        output.append(in_list[i])\n",
    "    return output\n",
    "\n",
    "reverse(['a', 'b', 'c'])"
   ]
  },
  {
   "cell_type": "markdown",
   "metadata": {},
   "source": [
    "Exercise 5\n",
    "Write a function called prob_k_heads that takes as its arguments natural numbers n and k with n>k and returns the probability of getting k heads from n flips.\n",
    "\n",
    "For example, prob_k_heads(1,1) should return 0.5"
   ]
  },
  {
   "cell_type": "code",
   "execution_count": 33,
   "metadata": {},
   "outputs": [
    {
     "data": {
      "text/plain": [
       "0.5"
      ]
     },
     "execution_count": 33,
     "metadata": {},
     "output_type": "execute_result"
    }
   ],
   "source": [
    "import numpy as np\n",
    "def prob_k_heads(n: int, k: int) -> float:\n",
    "    \"\"\"\n",
    "    arguments: natural numbers n and k representing total flips and heads desired\n",
    "    return: probability of getting exactly k heads from n flips\n",
    "    Notes: could apply math.comb(n, k) for nCk\n",
    "    \"\"\"\n",
    "    \n",
    "    nCk = int(np.prod(np.arange(k + 1, n + 1)) / np.prod(np.arange(1, n - k + 1)))\n",
    "    p = (0.5 ** n) * nCk\n",
    "    return p\n",
    "\n",
    "prob_k_heads(1,1)"
   ]
  }
 ],
 "metadata": {
  "kernelspec": {
   "display_name": "Python 3",
   "language": "python",
   "name": "python3"
  },
  "language_info": {
   "codemirror_mode": {
    "name": "ipython",
    "version": 3
   },
   "file_extension": ".py",
   "mimetype": "text/x-python",
   "name": "python",
   "nbconvert_exporter": "python",
   "pygments_lexer": "ipython3",
   "version": "3.9.6"
  }
 },
 "nbformat": 4,
 "nbformat_minor": 2
}
