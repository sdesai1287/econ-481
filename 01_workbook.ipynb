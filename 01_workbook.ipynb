{
 "cells": [
  {
   "cell_type": "markdown",
   "metadata": {},
   "source": [
    "# Lecture 1\n",
    "___"
   ]
  },
  {
   "cell_type": "markdown",
   "metadata": {},
   "source": [
    "## Exercise: Typing\n",
    "\n",
    "Use list comprehension to return the types of the list\n",
    "\n",
    "```{python}\n",
    "types_list = ['a', 1, 2., False, None]\n",
    "```"
   ]
  },
  {
   "cell_type": "code",
   "execution_count": 4,
   "metadata": {},
   "outputs": [],
   "source": [
    "types_list = ['a', 1, 2., False, None]"
   ]
  },
  {
   "cell_type": "code",
   "execution_count": 6,
   "metadata": {},
   "outputs": [
    {
     "data": {
      "text/plain": [
       "[str, int, float, bool, NoneType]"
      ]
     },
     "execution_count": 6,
     "metadata": {},
     "output_type": "execute_result"
    }
   ],
   "source": [
    "[type(item) for item in types_list]"
   ]
  },
  {
   "cell_type": "markdown",
   "metadata": {},
   "source": [
    "## Exercise: Factorial\n",
    "\n",
    "Write a loop that takes a natural number $n>0$ and returns $n!$, where \n",
    "\n",
    "$$\n",
    "n! = \\prod_{i=1}^ni\n",
    "$$\n",
    "\n",
    "If you have time, write a loop that computes the binomial coefficient:\n",
    "\n",
    "$$\n",
    "\\binom{n}{k} = \\frac{n!}{k!(n-k)!}\n",
    "$$"
   ]
  },
  {
   "cell_type": "code",
   "execution_count": 8,
   "metadata": {},
   "outputs": [
    {
     "data": {
      "text/plain": [
       "120"
      ]
     },
     "execution_count": 8,
     "metadata": {},
     "output_type": "execute_result"
    }
   ],
   "source": [
    "n = 5\n",
    "factorial = 1\n",
    "for i in range(n, 0, -1) :\n",
    "    factorial = factorial * i\n",
    "\n",
    "factorial"
   ]
  },
  {
   "cell_type": "code",
   "execution_count": 14,
   "metadata": {},
   "outputs": [
    {
     "data": {
      "text/plain": [
       "35"
      ]
     },
     "execution_count": 14,
     "metadata": {},
     "output_type": "execute_result"
    }
   ],
   "source": [
    "n = 7\n",
    "k_init = 3\n",
    "k = k_init\n",
    "binomial = 1\n",
    "for i in range(n, n-k_init, -1) :\n",
    "    binomial = (binomial * i / k)\n",
    "    k -= 1\n",
    "binomial = int(binomial)\n",
    "binomial"
   ]
  },
  {
   "cell_type": "markdown",
   "metadata": {},
   "source": [
    "## Exercise: `datetime`\n",
    "\n",
    "Create a list of the date of every day we have class this quarter. You may ignore holidays.\n",
    "\n",
    "- Hints:\n",
    "    - The last day of classes is May 31, 2024\n",
    "    - You can create a `timedelta` object using `timedelta(days=...)`"
   ]
  },
  {
   "cell_type": "code",
   "execution_count": 23,
   "metadata": {},
   "outputs": [
    {
     "data": {
      "text/plain": [
       "[datetime.datetime(2024, 3, 25, 0, 0),\n",
       " datetime.datetime(2024, 3, 27, 0, 0),\n",
       " datetime.datetime(2024, 4, 1, 0, 0),\n",
       " datetime.datetime(2024, 4, 3, 0, 0),\n",
       " datetime.datetime(2024, 4, 8, 0, 0),\n",
       " datetime.datetime(2024, 4, 10, 0, 0),\n",
       " datetime.datetime(2024, 4, 15, 0, 0),\n",
       " datetime.datetime(2024, 4, 17, 0, 0),\n",
       " datetime.datetime(2024, 4, 22, 0, 0),\n",
       " datetime.datetime(2024, 4, 24, 0, 0),\n",
       " datetime.datetime(2024, 4, 29, 0, 0),\n",
       " datetime.datetime(2024, 5, 1, 0, 0),\n",
       " datetime.datetime(2024, 5, 6, 0, 0),\n",
       " datetime.datetime(2024, 5, 8, 0, 0),\n",
       " datetime.datetime(2024, 5, 13, 0, 0),\n",
       " datetime.datetime(2024, 5, 15, 0, 0),\n",
       " datetime.datetime(2024, 5, 20, 0, 0),\n",
       " datetime.datetime(2024, 5, 22, 0, 0),\n",
       " datetime.datetime(2024, 5, 27, 0, 0),\n",
       " datetime.datetime(2024, 5, 29, 0, 0)]"
      ]
     },
     "execution_count": 23,
     "metadata": {},
     "output_type": "execute_result"
    }
   ],
   "source": [
    "from datetime import datetime, date, time, timedelta\n",
    "today = datetime(2024, 3, 25)\n",
    "endDate = datetime(2024, 5, 31)\n",
    "week = timedelta(7)\n",
    "days = [today, today + timedelta(2)]\n",
    "\n",
    "while days[-2] + week <= endDate :\n",
    "    days.append(days[-2] + week)\n",
    "    days.append(days[-2] + week)\n",
    "    \n",
    "\n",
    "days"
   ]
  }
 ],
 "metadata": {
  "kernelspec": {
   "display_name": "Python 3 (ipykernel)",
   "language": "python",
   "name": "python3"
  },
  "language_info": {
   "codemirror_mode": {
    "name": "ipython",
    "version": 3
   },
   "file_extension": ".py",
   "mimetype": "text/x-python",
   "name": "python",
   "nbconvert_exporter": "python",
   "pygments_lexer": "ipython3",
   "version": "3.9.6"
  }
 },
 "nbformat": 4,
 "nbformat_minor": 4
}
