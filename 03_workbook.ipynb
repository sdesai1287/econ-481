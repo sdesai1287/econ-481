{
 "cells": [
  {
   "cell_type": "markdown",
   "id": "27d8fa60-7b70-4bab-be9e-6fa4d4c7e89b",
   "metadata": {},
   "source": [
    "# Lecture 3\n",
    "___"
   ]
  },
  {
   "cell_type": "markdown",
   "id": "da10b572-68ad-47d8-a567-76a904393718",
   "metadata": {},
   "source": [
    "## Exercise: `numpy` Array as `DataFrame`\n",
    "\n",
    "Look up `pd.DataFrame`'s [documentation](https://pandas.pydata.org/docs/reference/api/pandas.DataFrame.html) and create a $1000 \\times 26$ `DataFrame` where each column has a letter of the alphabet as its header, and its rows are 1000 Poisson random variables."
   ]
  },
  {
   "cell_type": "markdown",
   "id": "b8c01d0e-a85d-4122-8e84-e7450da4a355",
   "metadata": {},
   "source": [
    "## Exercise: Distributions\n",
    "\n",
    "Use and your $1000 \\times 26$ `DataFrame` and return the sample mean and variance for each column. Use `apply` and `numpy` for one and only `numpy` for the other. Is there a time difference?"
   ]
  },
  {
   "cell_type": "markdown",
   "id": "7e93dff9-dc3e-4b0d-a48e-3a692def41f3",
   "metadata": {},
   "source": [
    "## Exercise: Matching\n",
    "\n",
    "Write a regular expression that will **match** each element in its entirety in these arrays:\n",
    "\n",
    "1. \"285a\", \"2a86\", \"44b\", \"abc\"\n",
    "2. \"1 + 1 = 2\", \"10 + 2 = 12\", \"3+11=14\"\n",
    "3. Match any numpy method, but no pandas methods (assume `np` and `pd` prefixes)\n",
    "\n",
    "A useful engine for practice: [regex101](https://regex101.com/)\n",
    "\n",
    "Hint: check out what `?` does."
   ]
  },
  {
   "cell_type": "markdown",
   "id": "3d18ddd9-7d75-47ea-b24f-ae2fa1c5e787",
   "metadata": {},
   "source": [
    "## Exercise: Joins/Merges\n",
    "\n",
    "- Create a `DataFrame` that has every combination of the integers from 1-10 and their names as strings (i.e. \"one\", \"two\", \"three\", etc) -- you should have 100 combinations. \n",
    "- Then create a new column which contains the computation of the integer exponentiated to the number of letters in the name for all 100 computations. \n",
    "- Finally, filter to rows where that value is divisible by 27."
   ]
  }
 ],
 "metadata": {
  "kernelspec": {
   "display_name": "Python 3 (ipykernel)",
   "language": "python",
   "name": "python3"
  },
  "language_info": {
   "codemirror_mode": {
    "name": "ipython",
    "version": 3
   },
   "file_extension": ".py",
   "mimetype": "text/x-python",
   "name": "python",
   "nbconvert_exporter": "python",
   "pygments_lexer": "ipython3",
   "version": "3.10.13"
  }
 },
 "nbformat": 4,
 "nbformat_minor": 5
}
