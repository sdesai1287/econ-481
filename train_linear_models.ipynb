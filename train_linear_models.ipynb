{
 "cells": [
  {
   "cell_type": "code",
   "execution_count": null,
   "id": "ed440fde-5f0d-46b9-86a2-13b8b6e2e346",
   "metadata": {},
   "outputs": [],
   "source": [
    "import numpy as np\n",
    "from sklearn.linear_model import LinearRegression, Lasso\n",
    "from sklearn.model_selection import GridSearchCV"
   ]
  },
  {
   "cell_type": "markdown",
   "id": "0a7bb369-59c5-42ec-b419-81e2f683eead",
   "metadata": {},
   "source": [
    "### Create Simulated Data\n",
    "___"
   ]
  },
  {
   "cell_type": "code",
   "execution_count": null,
   "id": "246f7f79-6196-4bf7-8cc9-0ce59317f627",
   "metadata": {},
   "outputs": [],
   "source": [
    "X = np.random.standard_normal(size = (200,100))\n",
    "beta = np.zeros((100,1))\n",
    "beta[:5,:] = np.arange(1,6).reshape(-1,1)\n",
    "y = X @ beta + 10 * np.random.standard_normal(size = (200,1))"
   ]
  },
  {
   "cell_type": "code",
   "execution_count": null,
   "id": "4b2af0be-f5fe-4cbe-bd2d-c29f1463e937",
   "metadata": {},
   "outputs": [],
   "source": [
    "X_unseen = np.random.standard_normal(size = (200,100))\n",
    "y_unseen = X_unseen @ beta + 10 * np.random.standard_normal(size = (200,1))"
   ]
  },
  {
   "cell_type": "markdown",
   "id": "b7515962-f205-4185-8ac5-0f873f004e2f",
   "metadata": {},
   "source": [
    "### Fit OLS Model\n",
    "___"
   ]
  },
  {
   "cell_type": "code",
   "execution_count": null,
   "id": "3268c100-a431-43a1-9518-d27f428047ec",
   "metadata": {},
   "outputs": [],
   "source": [
    "ols = LinearRegression()\n",
    "ols.fit(X, y)"
   ]
  },
  {
   "cell_type": "markdown",
   "id": "cbd7887d-c410-463a-bc6f-6ff6d55cfe7c",
   "metadata": {},
   "source": [
    "### Fit LASSO Model Using 5-Fold CV\n",
    "___"
   ]
  },
  {
   "cell_type": "code",
   "execution_count": null,
   "id": "32420f99-2fcb-46cf-86a2-05e80d944c26",
   "metadata": {},
   "outputs": [],
   "source": [
    "grid = GridSearchCV(\n",
    "    Lasso(),\n",
    "    param_grid = {'alpha': np.arange(1,11)}\n",
    ")\n",
    "\n",
    "grid.fit(X, y)\n",
    "\n",
    "best_lasso_model = grid.best_estimator_"
   ]
  }
 ],
 "metadata": {
  "kernelspec": {
   "display_name": "Python 3 (ipykernel)",
   "language": "python",
   "name": "python3"
  },
  "language_info": {
   "codemirror_mode": {
    "name": "ipython",
    "version": 3
   },
   "file_extension": ".py",
   "mimetype": "text/x-python",
   "name": "python",
   "nbconvert_exporter": "python",
   "pygments_lexer": "ipython3",
   "version": "3.10.13"
  }
 },
 "nbformat": 4,
 "nbformat_minor": 5
}
